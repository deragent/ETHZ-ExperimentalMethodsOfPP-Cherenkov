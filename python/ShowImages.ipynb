{
 "cells": [
  {
   "cell_type": "code",
   "execution_count": null,
   "id": "3405d966-e1de-49d7-918b-65f6fbccd3a5",
   "metadata": {},
   "outputs": [],
   "source": [
    "import ROOT\n",
    "\n",
    "import numpy as np\n",
    "import matplotlib as mpl\n",
    "import matplotlib.pyplot as plt"
   ]
  },
  {
   "cell_type": "code",
   "execution_count": null,
   "id": "f2a21063-4c89-4b3e-920e-b774ef47cb38",
   "metadata": {},
   "outputs": [],
   "source": [
    "FILENAME = \"Cherenkov_e-_1000MeV.root\"\n",
    "\n",
    "# Open the root File\n",
    "file = ROOT.TFile(f\"./{FILENAME}\")\n",
    "tree = file[\"Hits\"]\n",
    "\n",
    "\n",
    "# Show each event as a single \"image\"\n",
    "for event in tree:\n",
    "    plt.figure()\n",
    "\n",
    "    # Retrieve X and Y positions of Photon Hits\n",
    "    Xs = event.X\n",
    "    Ys = event.Y\n",
    "    \n",
    "    plt.hist2d(Xs, Ys, bins=100, norm=mpl.colors.LogNorm())"
   ]
  },
  {
   "cell_type": "code",
   "execution_count": null,
   "id": "e0f7e527-b399-455b-88c2-1727a1934788",
   "metadata": {},
   "outputs": [],
   "source": []
  }
 ],
 "metadata": {
  "kernelspec": {
   "display_name": "Neutrino Lecture 2024",
   "language": "python",
   "name": "neutrino_lecture"
  },
  "language_info": {
   "codemirror_mode": {
    "name": "ipython",
    "version": 3
   },
   "file_extension": ".py",
   "mimetype": "text/x-python",
   "name": "python",
   "nbconvert_exporter": "python",
   "pygments_lexer": "ipython3",
   "version": "3.11.2"
  }
 },
 "nbformat": 4,
 "nbformat_minor": 5
}
